{
 "cells": [
  {
   "cell_type": "code",
   "execution_count": 1,
   "metadata": {},
   "outputs": [],
   "source": [
    "import tensorflow as tf\n",
    "from tensorflow import keras\n",
    "import matplotlib.pyplot as plt\n",
    "import numpy as np"
   ]
  },
  {
   "cell_type": "code",
   "execution_count": 2,
   "metadata": {},
   "outputs": [],
   "source": [
    "(x_train,y_train),(x_test,y_test)=keras.datasets.cifar10.load_data()"
   ]
  },
  {
   "cell_type": "code",
   "execution_count": 3,
   "metadata": {},
   "outputs": [
    {
     "data": {
      "text/plain": [
       "(50000, 32, 32, 3)"
      ]
     },
     "execution_count": 3,
     "metadata": {},
     "output_type": "execute_result"
    }
   ],
   "source": [
    "x_train.shape"
   ]
  },
  {
   "cell_type": "code",
   "execution_count": 4,
   "metadata": {},
   "outputs": [],
   "source": [
    "classes = [\"airplane\",\"automobile\",\"bird\",\"cat\",\"deer\",\"dog\",\"frog\",\"horse\",\"ship\",\"truck\"]"
   ]
  },
  {
   "cell_type": "code",
   "execution_count": 5,
   "metadata": {},
   "outputs": [],
   "source": [
    "def show(x,y,index):\n",
    "    plt.figure(figsize=(15,2))\n",
    "    plt.imshow(x[index])\n",
    "    plt.xlabel(classes[y[index][0]],color=\"blue\")"
   ]
  },
  {
   "cell_type": "code",
   "execution_count": 6,
   "metadata": {},
   "outputs": [
    {
     "data": {
      "image/png": "[encoded data removed]",
      "text/plain": [
       "<Figure size 1080x144 with 1 Axes>"
      ]
     },
     "metadata": {
      "needs_background": "light"
     },
     "output_type": "display_data"
    }
   ],
   "source": [
    "show(x_train,y_train,2000)"
   ]
  },
  {
   "cell_type": "code",
   "execution_count": 7,
   "metadata": {},
   "outputs": [],
   "source": [
    "x_train=x_train/255\n",
    "x_test=x_test/255"
   ]
  },
  {
   "cell_type": "code",
   "execution_count": 22,
   "metadata": {},
   "outputs": [
    {
     "name": "stdout",
     "output_type": "stream",
     "text": [
      "Epoch 1/100\n",
      "1563/1563 [==============================] - 4s 3ms/step - loss: 2.0988 - accuracy: 0.2202\n",
      "Epoch 2/100\n",
      "1563/1563 [==============================] - 16s 10ms/step - loss: 1.9040 - accuracy: 0.3096\n",
      "Epoch 3/100\n",
      "1563/1563 [==============================] - 16s 10ms/step - loss: 1.8255 - accuracy: 0.3403\n",
      "Epoch 4/100\n",
      "1563/1563 [==============================] - 16s 10ms/step - loss: 1.7763 - accuracy: 0.3615\n",
      "Epoch 5/100\n",
      "1563/1563 [==============================] - 16s 10ms/step - loss: 1.7414 - accuracy: 0.3753\n",
      "Epoch 6/100\n",
      "1563/1563 [==============================] - 16s 10ms/step - loss: 1.7088 - accuracy: 0.3884\n",
      "Epoch 7/100\n",
      "1563/1563 [==============================] - 16s 10ms/step - loss: 1.6807 - accuracy: 0.3984\n",
      "Epoch 8/100\n",
      "1563/1563 [==============================] - 16s 10ms/step - loss: 1.6577 - accuracy: 0.4065\n",
      "Epoch 9/100\n",
      "1563/1563 [==============================] - 16s 10ms/step - loss: 1.6386 - accuracy: 0.4148\n",
      "Epoch 10/100\n",
      "1563/1563 [==============================] - 16s 10ms/step - loss: 1.6171 - accuracy: 0.4233\n",
      "Epoch 11/100\n",
      "1563/1563 [==============================] - 16s 10ms/step - loss: 1.6034 - accuracy: 0.4267\n",
      "Epoch 12/100\n",
      "1563/1563 [==============================] - 16s 10ms/step - loss: 1.5893 - accuracy: 0.4326\n",
      "Epoch 13/100\n",
      "1563/1563 [==============================] - 16s 10ms/step - loss: 1.5723 - accuracy: 0.4376\n",
      "Epoch 14/100\n",
      "1563/1563 [==============================] - 17s 11ms/step - loss: 1.5589 - accuracy: 0.4421\n",
      "Epoch 15/100\n",
      "1563/1563 [==============================] - 16s 10ms/step - loss: 1.5440 - accuracy: 0.4463\n",
      "Epoch 16/100\n",
      "1563/1563 [==============================] - 16s 10ms/step - loss: 1.5326 - accuracy: 0.4510\n",
      "Epoch 17/100\n",
      "1563/1563 [==============================] - 16s 11ms/step - loss: 1.5220 - accuracy: 0.4558\n",
      "Epoch 18/100\n",
      "1563/1563 [==============================] - 17s 11ms/step - loss: 1.5095 - accuracy: 0.4592\n",
      "Epoch 19/100\n",
      "1563/1563 [==============================] - 16s 11ms/step - loss: 1.4959 - accuracy: 0.4641\n",
      "Epoch 20/100\n",
      "1563/1563 [==============================] - 17s 11ms/step - loss: 1.4880 - accuracy: 0.4695\n",
      "Epoch 21/100\n",
      "1563/1563 [==============================] - 17s 11ms/step - loss: 1.4795 - accuracy: 0.4706\n",
      "Epoch 22/100\n",
      "1563/1563 [==============================] - 16s 10ms/step - loss: 1.4674 - accuracy: 0.4731\n",
      "Epoch 23/100\n",
      "1563/1563 [==============================] - 16s 11ms/step - loss: 1.4591 - accuracy: 0.4789\n",
      "Epoch 24/100\n",
      "1563/1563 [==============================] - 17s 11ms/step - loss: 1.4532 - accuracy: 0.4765\n",
      "Epoch 25/100\n",
      "1563/1563 [==============================] - 16s 10ms/step - loss: 1.4429 - accuracy: 0.4790\n",
      "Epoch 26/100\n",
      "1563/1563 [==============================] - 16s 10ms/step - loss: 1.4333 - accuracy: 0.4845\n",
      "Epoch 27/100\n",
      "1563/1563 [==============================] - 15s 9ms/step - loss: 1.4260 - accuracy: 0.4895\n",
      "Epoch 28/100\n",
      "1563/1563 [==============================] - 16s 11ms/step - loss: 1.4211 - accuracy: 0.4912\n",
      "Epoch 29/100\n",
      "1563/1563 [==============================] - 16s 10ms/step - loss: 1.4097 - accuracy: 0.4899\n",
      "Epoch 30/100\n",
      "1563/1563 [==============================] - 16s 10ms/step - loss: 1.4062 - accuracy: 0.4937\n",
      "Epoch 31/100\n",
      "1563/1563 [==============================] - 16s 10ms/step - loss: 1.3949 - accuracy: 0.4986\n",
      "Epoch 32/100\n",
      "1563/1563 [==============================] - 17s 11ms/step - loss: 1.3876 - accuracy: 0.5015\n",
      "Epoch 33/100\n",
      "1563/1563 [==============================] - 17s 11ms/step - loss: 1.3835 - accuracy: 0.5022\n",
      "Epoch 34/100\n",
      "1563/1563 [==============================] - 16s 10ms/step - loss: 1.3779 - accuracy: 0.5025\n",
      "Epoch 35/100\n",
      "1563/1563 [==============================] - 17s 11ms/step - loss: 1.3679 - accuracy: 0.5081\n",
      "Epoch 36/100\n",
      "1563/1563 [==============================] - 17s 11ms/step - loss: 1.3624 - accuracy: 0.5108\n",
      "Epoch 37/100\n",
      "1563/1563 [==============================] - 16s 10ms/step - loss: 1.3578 - accuracy: 0.5102\n",
      "Epoch 38/100\n",
      "1563/1563 [==============================] - 16s 10ms/step - loss: 1.3523 - accuracy: 0.5128\n",
      "Epoch 39/100\n",
      "1563/1563 [==============================] - 17s 11ms/step - loss: 1.3457 - accuracy: 0.5146\n",
      "Epoch 40/100\n",
      "1563/1563 [==============================] - 13s 9ms/step - loss: 1.3404 - accuracy: 0.5169\n",
      "Epoch 41/100\n",
      "1563/1563 [==============================] - 10s 7ms/step - loss: 1.3360 - accuracy: 0.5178\n",
      "Epoch 42/100\n",
      "1563/1563 [==============================] - 10s 7ms/step - loss: 1.3295 - accuracy: 0.5200\n",
      "Epoch 43/100\n",
      "1563/1563 [==============================] - 11s 7ms/step - loss: 1.3218 - accuracy: 0.5247\n",
      "Epoch 44/100\n",
      "1563/1563 [==============================] - 13s 8ms/step - loss: 1.3210 - accuracy: 0.5238\n",
      "Epoch 45/100\n",
      "1563/1563 [==============================] - 11s 7ms/step - loss: 1.3189 - accuracy: 0.5236\n",
      "Epoch 46/100\n",
      "1563/1563 [==============================] - 11s 7ms/step - loss: 1.3118 - accuracy: 0.5288\n",
      "Epoch 47/100\n",
      "1563/1563 [==============================] - 14s 9ms/step - loss: 1.3043 - accuracy: 0.5295\n",
      "Epoch 48/100\n",
      "1563/1563 [==============================] - 14s 9ms/step - loss: 1.3015 - accuracy: 0.5317\n",
      "Epoch 49/100\n",
      "1563/1563 [==============================] - 13s 8ms/step - loss: 1.2985 - accuracy: 0.5313\n",
      "Epoch 50/100\n",
      "1563/1563 [==============================] - 14s 9ms/step - loss: 1.2940 - accuracy: 0.5323\n",
      "Epoch 51/100\n",
      "1563/1563 [==============================] - 15s 10ms/step - loss: 1.2879 - accuracy: 0.5359\n",
      "Epoch 52/100\n",
      "1563/1563 [==============================] - 15s 9ms/step - loss: 1.2766 - accuracy: 0.5402\n",
      "Epoch 53/100\n",
      "1563/1563 [==============================] - 15s 9ms/step - loss: 1.2749 - accuracy: 0.5406\n",
      "Epoch 54/100\n",
      "1563/1563 [==============================] - 15s 9ms/step - loss: 1.2751 - accuracy: 0.5408\n",
      "Epoch 55/100\n",
      "1563/1563 [==============================] - 15s 10ms/step - loss: 1.2672 - accuracy: 0.5405\n",
      "Epoch 56/100\n",
      "1563/1563 [==============================] - 11s 7ms/step - loss: 1.2591 - accuracy: 0.5445\n",
      "Epoch 57/100\n",
      "1563/1563 [==============================] - 14s 9ms/step - loss: 1.2610 - accuracy: 0.5449\n",
      "Epoch 58/100\n",
      "1563/1563 [==============================] - 13s 9ms/step - loss: 1.2548 - accuracy: 0.5471\n",
      "Epoch 59/100\n",
      "1563/1563 [==============================] - 12s 8ms/step - loss: 1.2520 - accuracy: 0.5499\n",
      "Epoch 60/100\n",
      "1563/1563 [==============================] - 13s 8ms/step - loss: 1.2486 - accuracy: 0.5465\n",
      "Epoch 61/100\n",
      "1563/1563 [==============================] - 12s 8ms/step - loss: 1.2441 - accuracy: 0.5496\n",
      "Epoch 62/100\n",
      "1563/1563 [==============================] - 11s 7ms/step - loss: 1.2357 - accuracy: 0.5543\n",
      "Epoch 63/100\n",
      "1563/1563 [==============================] - 13s 8ms/step - loss: 1.2387 - accuracy: 0.5509\n",
      "Epoch 64/100\n",
      "1563/1563 [==============================] - 12s 8ms/step - loss: 1.2267 - accuracy: 0.5582\n",
      "Epoch 65/100\n",
      "1563/1563 [==============================] - 14s 9ms/step - loss: 1.2265 - accuracy: 0.5578\n",
      "Epoch 66/100\n",
      "1563/1563 [==============================] - 17s 11ms/step - loss: 1.2229 - accuracy: 0.5589\n",
      "Epoch 67/100\n",
      "1563/1563 [==============================] - 12s 8ms/step - loss: 1.2150 - accuracy: 0.5620\n",
      "Epoch 68/100\n",
      "1563/1563 [==============================] - 14s 9ms/step - loss: 1.2136 - accuracy: 0.5629\n",
      "Epoch 69/100\n",
      "1563/1563 [==============================] - 13s 8ms/step - loss: 1.2085 - accuracy: 0.5640\n",
      "Epoch 70/100\n",
      "1563/1563 [==============================] - 13s 9ms/step - loss: 1.2043 - accuracy: 0.5638\n",
      "Epoch 71/100\n",
      "1563/1563 [==============================] - 12s 7ms/step - loss: 1.2010 - accuracy: 0.5651\n",
      "Epoch 72/100\n",
      "1563/1563 [==============================] - 11s 7ms/step - loss: 1.1982 - accuracy: 0.5669\n",
      "Epoch 73/100\n",
      "1563/1563 [==============================] - 12s 7ms/step - loss: 1.1972 - accuracy: 0.5685\n",
      "Epoch 74/100\n",
      "1563/1563 [==============================] - 12s 7ms/step - loss: 1.1914 - accuracy: 0.5725\n",
      "Epoch 75/100\n",
      "1563/1563 [==============================] - 12s 7ms/step - loss: 1.1897 - accuracy: 0.5692\n",
      "Epoch 76/100\n",
      "1563/1563 [==============================] - 12s 8ms/step - loss: 1.1818 - accuracy: 0.5720\n",
      "Epoch 77/100\n",
      "1563/1563 [==============================] - 13s 8ms/step - loss: 1.1837 - accuracy: 0.5722\n",
      "Epoch 78/100\n",
      "1563/1563 [==============================] - 18s 12ms/step - loss: 1.1775 - accuracy: 0.5730\n",
      "Epoch 79/100\n",
      "1563/1563 [==============================] - 15s 10ms/step - loss: 1.1747 - accuracy: 0.5781\n",
      "Epoch 80/100\n",
      "1563/1563 [==============================] - 13s 8ms/step - loss: 1.1664 - accuracy: 0.5793\n",
      "Epoch 81/100\n",
      "1563/1563 [==============================] - 13s 8ms/step - loss: 1.1673 - accuracy: 0.5794\n",
      "Epoch 82/100\n",
      "1563/1563 [==============================] - 13s 8ms/step - loss: 1.1661 - accuracy: 0.5802\n",
      "Epoch 83/100\n",
      "1563/1563 [==============================] - 13s 9ms/step - loss: 1.1583 - accuracy: 0.5811\n",
      "Epoch 84/100\n",
      "1563/1563 [==============================] - 16s 10ms/step - loss: 1.1576 - accuracy: 0.5803\n",
      "Epoch 85/100\n",
      "1563/1563 [==============================] - 18s 11ms/step - loss: 1.1525 - accuracy: 0.5845\n",
      "Epoch 86/100\n",
      "1563/1563 [==============================] - 15s 9ms/step - loss: 1.1486 - accuracy: 0.5858\n",
      "Epoch 87/100\n",
      "1563/1563 [==============================] - 16s 10ms/step - loss: 1.1484 - accuracy: 0.5846\n",
      "Epoch 88/100\n",
      "1563/1563 [==============================] - 16s 10ms/step - loss: 1.1421 - accuracy: 0.5876\n",
      "Epoch 89/100\n",
      "1563/1563 [==============================] - 16s 10ms/step - loss: 1.1409 - accuracy: 0.5893\n",
      "Epoch 90/100\n",
      "1563/1563 [==============================] - 16s 10ms/step - loss: 1.1387 - accuracy: 0.5867\n",
      "Epoch 91/100\n",
      "1563/1563 [==============================] - 16s 10ms/step - loss: 1.1347 - accuracy: 0.5895\n",
      "Epoch 92/100\n",
      "1563/1563 [==============================] - 16s 10ms/step - loss: 1.1301 - accuracy: 0.5912\n",
      "Epoch 93/100\n",
      "1563/1563 [==============================] - 16s 10ms/step - loss: 1.1281 - accuracy: 0.5917\n",
      "Epoch 94/100\n",
      "1563/1563 [==============================] - 15s 10ms/step - loss: 1.1290 - accuracy: 0.5915\n",
      "Epoch 95/100\n",
      "1563/1563 [==============================] - 15s 10ms/step - loss: 1.1178 - accuracy: 0.5960\n",
      "Epoch 96/100\n",
      "1563/1563 [==============================] - 16s 10ms/step - loss: 1.1182 - accuracy: 0.5945\n",
      "Epoch 97/100\n",
      "1563/1563 [==============================] - 15s 10ms/step - loss: 1.1169 - accuracy: 0.5959\n",
      "Epoch 98/100\n",
      "1563/1563 [==============================] - ETA: 0s - loss: 1.1107 - accuracy: 0.59 - 15s 10ms/step - loss: 1.1106 - accuracy: 0.5980\n",
      "Epoch 99/100\n",
      "1563/1563 [==============================] - 16s 10ms/step - loss: 1.1083 - accuracy: 0.5993\n",
      "Epoch 100/100\n",
      "1563/1563 [==============================] - 16s 10ms/step - loss: 1.1004 - accuracy: 0.6048\n"
     ]
    },
    {
     "data": {
      "text/plain": [
       "<tensorflow.python.keras.callbacks.History at 0x1ef63b1ee20>"
      ]
     },
     "execution_count": 22,
     "metadata": {},
     "output_type": "execute_result"
    }
   ],
   "source": [
    "Ann_model=keras.Sequential([\n",
    "    keras.layers.Flatten(input_shape=(32,32,3)),\n",
    "    keras.layers.Dense(700,activation=\"relu\"),\n",
    "    keras.layers.Dropout(0.5),\n",
    "    keras.layers.Dense(300,activation=\"relu\"),\n",
    "    keras.layers.Dropout(0.3),\n",
    "    keras.layers.Dense(170,activation=\"relu\"),\n",
    "    keras.layers.Dense(10,activation=\"sigmoid\")\n",
    "])\n",
    "Ann_model.compile(optimizer=\"SGD\",loss=\"sparse_categorical_crossentropy\",metrics=['accuracy'])\n",
    "Ann_model.fit(x_train,y_train,epochs=50)"
   ]
  },
  {
   "cell_type": "code",
   "execution_count": 23,
   "metadata": {},
   "outputs": [
    {
     "name": "stdout",
     "output_type": "stream",
     "text": [
      "1563/1563 [==============================] - 2s 1ms/step - loss: 0.9091 - accuracy: 0.6885\n"
     ]
    },
    {
     "data": {
      "text/plain": [
       "[0.9090649485588074, 0.6884599924087524]"
      ]
     },
     "execution_count": 23,
     "metadata": {},
     "output_type": "execute_result"
    }
   ],
   "source": [
    "Ann_model.evaluate(x_train,y_train)"
   ]
  },
  {
   "cell_type": "code",
   "execution_count": 24,
   "metadata": {},
   "outputs": [
    {
     "name": "stdout",
     "output_type": "stream",
     "text": [
      "313/313 [==============================] - 0s 1ms/step - loss: 1.2396 - accuracy: 0.5616\n"
     ]
    },
    {
     "data": {
      "text/plain": [
       "[1.2396281957626343, 0.5616000294685364]"
      ]
     },
     "execution_count": 24,
     "metadata": {},
     "output_type": "execute_result"
    }
   ],
   "source": [
    "Ann_model.evaluate(x_test,y_test)"
   ]
  },
  {
   "cell_type": "code",
   "execution_count": 16,
   "metadata": {},
   "outputs": [
    {
     "name": "stdout",
     "output_type": "stream",
     "text": [
      "classification_report: \n",
      "               precision    recall  f1-score   support\n",
      "\n",
      "           0       0.69      0.50      0.58      1000\n",
      "           1       0.70      0.65      0.67      1000\n",
      "           2       0.35      0.62      0.44      1000\n",
      "           3       0.39      0.37      0.38      1000\n",
      "           4       0.49      0.41      0.45      1000\n",
      "           5       0.51      0.38      0.43      1000\n",
      "           6       0.51      0.70      0.59      1000\n",
      "           7       0.72      0.53      0.61      1000\n",
      "           8       0.80      0.55      0.65      1000\n",
      "           9       0.55      0.67      0.60      1000\n",
      "\n",
      "    accuracy                           0.54     10000\n",
      "   macro avg       0.57      0.54      0.54     10000\n",
      "weighted avg       0.57      0.54      0.54     10000\n",
      "\n"
     ]
    }
   ],
   "source": [
    "from sklearn.metrics import classification_report\n",
    "y_pred=Ann_model.predict(x_test)\n",
    "y_pred_classes=[np.argmax(element) for element in y_pred]\n",
    "print(\"classification_report: \\n\",classification_report(y_test,y_pred_classes))"
   ]
  },
  {
   "cell_type": "code",
   "execution_count": 34,
   "metadata": {},
   "outputs": [
    {
     "name": "stdout",
     "output_type": "stream",
     "text": [
      "Epoch 1/50\n",
      "1563/1563 [==============================] - 4s 3ms/step - loss: 1.4168 - accuracy: 0.4921\n",
      "Epoch 2/50\n",
      "1563/1563 [==============================] - 4s 3ms/step - loss: 1.0596 - accuracy: 0.6271\n",
      "Epoch 3/50\n",
      "1563/1563 [==============================] - 4s 3ms/step - loss: 0.8992 - accuracy: 0.6852\n",
      "Epoch 4/50\n",
      "1563/1563 [==============================] - 4s 3ms/step - loss: 0.7820 - accuracy: 0.7276\n",
      "Epoch 5/50\n",
      "1563/1563 [==============================] - 4s 3ms/step - loss: 0.6839 - accuracy: 0.7614\n",
      "Epoch 6/50\n",
      "1563/1563 [==============================] - 4s 3ms/step - loss: 0.5843 - accuracy: 0.7973\n",
      "Epoch 7/50\n",
      "1563/1563 [==============================] - 4s 3ms/step - loss: 0.5015 - accuracy: 0.8258\n",
      "Epoch 8/50\n",
      "1563/1563 [==============================] - 4s 3ms/step - loss: 0.4294 - accuracy: 0.8501\n",
      "Epoch 9/50\n",
      "1563/1563 [==============================] - 4s 3ms/step - loss: 0.3593 - accuracy: 0.8737\n",
      "Epoch 10/50\n",
      "1563/1563 [==============================] - 4s 3ms/step - loss: 0.3114 - accuracy: 0.8915\n",
      "Epoch 11/50\n",
      "1563/1563 [==============================] - 4s 3ms/step - loss: 0.2723 - accuracy: 0.9045\n",
      "Epoch 12/50\n",
      "1563/1563 [==============================] - 4s 3ms/step - loss: 0.2463 - accuracy: 0.9151\n",
      "Epoch 13/50\n",
      "1563/1563 [==============================] - 4s 3ms/step - loss: 0.2176 - accuracy: 0.9228\n",
      "Epoch 14/50\n",
      "1563/1563 [==============================] - 4s 3ms/step - loss: 0.1989 - accuracy: 0.9320\n",
      "Epoch 15/50\n",
      "1563/1563 [==============================] - 4s 3ms/step - loss: 0.1890 - accuracy: 0.9367\n",
      "Epoch 16/50\n",
      "1563/1563 [==============================] - 4s 3ms/step - loss: 0.1729 - accuracy: 0.9421\n",
      "Epoch 17/50\n",
      "1563/1563 [==============================] - 4s 3ms/step - loss: 0.1675 - accuracy: 0.9428\n",
      "Epoch 18/50\n",
      "1563/1563 [==============================] - 4s 3ms/step - loss: 0.1596 - accuracy: 0.9451\n",
      "Epoch 19/50\n",
      "1563/1563 [==============================] - 4s 3ms/step - loss: 0.1527 - accuracy: 0.9494\n",
      "Epoch 20/50\n",
      "1563/1563 [==============================] - 4s 3ms/step - loss: 0.1337 - accuracy: 0.9555\n",
      "Epoch 21/50\n",
      "1563/1563 [==============================] - 5s 3ms/step - loss: 0.1419 - accuracy: 0.9527\n",
      "Epoch 22/50\n",
      "1563/1563 [==============================] - 5s 3ms/step - loss: 0.1390 - accuracy: 0.9535\n",
      "Epoch 23/50\n",
      "1563/1563 [==============================] - 5s 3ms/step - loss: 0.1312 - accuracy: 0.9570\n",
      "Epoch 24/50\n",
      "1563/1563 [==============================] - 4s 3ms/step - loss: 0.1240 - accuracy: 0.9590\n",
      "Epoch 25/50\n",
      "1563/1563 [==============================] - 5s 3ms/step - loss: 0.1241 - accuracy: 0.9595\n",
      "Epoch 26/50\n",
      "1563/1563 [==============================] - 4s 3ms/step - loss: 0.1240 - accuracy: 0.9604\n",
      "Epoch 27/50\n",
      "1563/1563 [==============================] - 4s 3ms/step - loss: 0.1194 - accuracy: 0.9608\n",
      "Epoch 28/50\n",
      "1563/1563 [==============================] - 4s 3ms/step - loss: 0.1154 - accuracy: 0.9627\n",
      "Epoch 29/50\n",
      "1563/1563 [==============================] - 4s 3ms/step - loss: 0.1170 - accuracy: 0.9629\n",
      "Epoch 30/50\n",
      "1563/1563 [==============================] - 4s 3ms/step - loss: 0.1073 - accuracy: 0.9664\n",
      "Epoch 31/50\n",
      "1563/1563 [==============================] - 4s 3ms/step - loss: 0.1144 - accuracy: 0.9632\n",
      "Epoch 32/50\n",
      "1563/1563 [==============================] - 4s 3ms/step - loss: 0.1130 - accuracy: 0.9642\n",
      "Epoch 33/50\n",
      "1563/1563 [==============================] - 4s 3ms/step - loss: 0.1058 - accuracy: 0.9663\n",
      "Epoch 34/50\n",
      "1563/1563 [==============================] - 4s 3ms/step - loss: 0.1042 - accuracy: 0.9668\n",
      "Epoch 35/50\n",
      "1563/1563 [==============================] - 5s 3ms/step - loss: 0.1051 - accuracy: 0.9673\n",
      "Epoch 36/50\n",
      "1563/1563 [==============================] - 4s 3ms/step - loss: 0.1062 - accuracy: 0.9678\n",
      "Epoch 37/50\n",
      "1563/1563 [==============================] - 4s 3ms/step - loss: 0.0966 - accuracy: 0.9702\n",
      "Epoch 38/50\n",
      "1563/1563 [==============================] - 4s 3ms/step - loss: 0.0974 - accuracy: 0.9707\n",
      "Epoch 39/50\n",
      "1563/1563 [==============================] - 5s 3ms/step - loss: 0.1036 - accuracy: 0.9680\n",
      "Epoch 40/50\n",
      "1563/1563 [==============================] - 5s 3ms/step - loss: 0.0980 - accuracy: 0.9700\n",
      "Epoch 41/50\n",
      "1563/1563 [==============================] - 4s 3ms/step - loss: 0.0927 - accuracy: 0.9714\n",
      "Epoch 42/50\n",
      "1563/1563 [==============================] - 4s 3ms/step - loss: 0.1081 - accuracy: 0.9682\n",
      "Epoch 43/50\n",
      "1563/1563 [==============================] - 5s 3ms/step - loss: 0.0944 - accuracy: 0.9715\n",
      "Epoch 44/50\n",
      "1563/1563 [==============================] - 4s 3ms/step - loss: 0.0964 - accuracy: 0.9712\n",
      "Epoch 45/50\n",
      "1563/1563 [==============================] - 5s 3ms/step - loss: 0.0947 - accuracy: 0.9713\n",
      "Epoch 46/50\n",
      "1563/1563 [==============================] - 4s 3ms/step - loss: 0.0919 - accuracy: 0.9721\n",
      "Epoch 47/50\n",
      "1563/1563 [==============================] - 5s 3ms/step - loss: 0.0947 - accuracy: 0.9729\n",
      "Epoch 48/50\n",
      "1563/1563 [==============================] - 4s 3ms/step - loss: 0.0917 - accuracy: 0.9724\n",
      "Epoch 49/50\n",
      "1563/1563 [==============================] - 4s 3ms/step - loss: 0.0916 - accuracy: 0.9729\n",
      "Epoch 50/50\n",
      "1563/1563 [==============================] - 4s 3ms/step - loss: 0.0903 - accuracy: 0.9732\n"
     ]
    },
    {
     "data": {
      "text/plain": [
       "<tensorflow.python.keras.callbacks.History at 0x1ef6c671cd0>"
      ]
     },
     "execution_count": 34,
     "metadata": {},
     "output_type": "execute_result"
    }
   ],
   "source": [
    "Cnn_model=keras.Sequential([\n",
    "    #cnn\n",
    "    keras.layers.Conv2D(24,(3,3),activation=\"relu\",input_shape=(32,32,3)),\n",
    "    keras.layers.MaxPooling2D((2,2)),\n",
    "    keras.layers.Conv2D(45,(3,3),activation=\"relu\"),\n",
    "    keras.layers.MaxPooling2D((2,2)),\n",
    "    #dense_layers\n",
    "    keras.layers.Flatten(),\n",
    "    keras.layers.Dense(1500,activation=\"relu\"),\n",
    "    keras.layers.Dropout(0.5),\n",
    "    keras.layers.Dense(10,activation=\"softmax\"),\n",
    "])\n",
    "Cnn_model.compile(optimizer=\"adam\",loss=\"sparse_categorical_crossentropy\",metrics=['accuracy'])\n",
    "Cnn_model.fit(x_train,y_train,epochs=50)"
   ]
  },
  {
   "cell_type": "code",
   "execution_count": 35,
   "metadata": {},
   "outputs": [
    {
     "name": "stdout",
     "output_type": "stream",
     "text": [
      "1563/1563 [==============================] - 2s 2ms/step - loss: 0.0039 - accuracy: 0.9988\n"
     ]
    },
    {
     "data": {
      "text/plain": [
       "[0.0039175283163785934, 0.9987800121307373]"
      ]
     },
     "execution_count": 35,
     "metadata": {},
     "output_type": "execute_result"
    }
   ],
   "source": [
    "Cnn_model.evaluate(x_train,y_train)"
   ]
  },
  {
   "cell_type": "code",
   "execution_count": 36,
   "metadata": {},
   "outputs": [
    {
     "name": "stdout",
     "output_type": "stream",
     "text": [
      "313/313 [==============================] - 0s 2ms/step - loss: 2.1783 - accuracy: 0.7223\n"
     ]
    },
    {
     "data": {
      "text/plain": [
       "[2.1782894134521484, 0.7222999930381775]"
      ]
     },
     "execution_count": 36,
     "metadata": {},
     "output_type": "execute_result"
    }
   ],
   "source": [
    "Cnn_model.evaluate(x_test,y_test)"
   ]
  },
  {
   "cell_type": "code",
   "execution_count": 55,
   "metadata": {},
   "outputs": [
    {
     "name": "stdout",
     "output_type": "stream",
     "text": [
      "1563/1563 [==============================] - 4s 2ms/step - loss: 0.1223 - accuracy: 0.9583\n"
     ]
    },
    {
     "data": {
      "text/plain": [
       "[0.1222650483250618, 0.9582800269126892]"
      ]
     },
     "execution_count": 55,
     "metadata": {},
     "output_type": "execute_result"
    }
   ],
   "source": [
    "Ann_model.evaluate(x_train,y_train)"
   ]
  },
  {
   "cell_type": "code",
   "execution_count": 56,
   "metadata": {
    "scrolled": true
   },
   "outputs": [
    {
     "name": "stdout",
     "output_type": "stream",
     "text": [
      "313/313 [==============================] - 1s 2ms/step - loss: 2.1857 - accuracy: 0.5536\n"
     ]
    },
    {
     "data": {
      "text/plain": [
       "[2.185718059539795, 0.553600013256073]"
      ]
     },
     "execution_count": 56,
     "metadata": {},
     "output_type": "execute_result"
    }
   ],
   "source": [
    "Ann_model.evaluate(x_test,y_test)"
   ]
  },
  {
   "cell_type": "code",
   "execution_count": 37,
   "metadata": {},
   "outputs": [],
   "source": [
    "from tensorflow.keras.preprocessing.image import ImageDataGenerator\n",
    "datagen = ImageDataGenerator(\n",
    "        featurewise_center=False,  # set input mean to 0 over the dataset\n",
    "        samplewise_center=False,  # set each sample mean to 0\n",
    "        featurewise_std_normalization=False,  # divide inputs by std of the dataset\n",
    "        samplewise_std_normalization=False,  # divide each input by its std\n",
    "        zca_whitening=False,  # apply ZCA whitening\n",
    "        rotation_range=10,  # randomly rotate images in the range (degrees, 0 to 180)\n",
    "        zoom_range = 0.1, # Randomly zoom image \n",
    "        width_shift_range=0.1,  # randomly shift images horizontally (fraction of total width)\n",
    "        height_shift_range=0.1,  # randomly shift images vertically (fraction of total height)\n",
    "        horizontal_flip=False,  # randomly flip images\n",
    "        vertical_flip=False)  # randomly flip images\n",
    "cnn_model=keras.Sequential([\n",
    "    #cnn\n",
    "    keras.layers.Conv2D(24,(3,3),activation=\"relu\",input_shape=(32,32,3)),\n",
    "    keras.layers.MaxPooling2D((2,2)),\n",
    "    keras.layers.Conv2D(45,(3,3),activation=\"relu\"),\n",
    "    keras.layers.MaxPooling2D((2,2)),\n",
    "    #dense_layers\n",
    "    keras.layers.Flatten(),\n",
    "    keras.layers.Dense(1500,activation=\"relu\"),\n",
    "    keras.layers.Dropout(0.5),\n",
    "    keras.layers.Dense(10,activation=\"softmax\"),\n",
    "])\n",
    "cnn_model.compile(optimizer=\"adam\",loss=\"sparse_categorical_crossentropy\",metrics=['accuracy'])"
   ]
  },
  {
   "cell_type": "code",
   "execution_count": null,
   "metadata": {
    "scrolled": true
   },
   "outputs": [],
   "source": [
    "cnn_model.fit(datagen.flow(x_train, y_train, batch_size=64),epochs=50,steps_per_epoch = x_train.shape[0] // 100)"
   ]
  },
  {
   "cell_type": "code",
   "execution_count": 31,
   "metadata": {},
   "outputs": [
    {
     "data": {
      "text/plain": [
       "50000"
      ]
     },
     "execution_count": 31,
     "metadata": {},
     "output_type": "execute_result"
    }
   ],
   "source": [
    "x_train.shape[0]"
   ]
  }
 ],
 "metadata": {
  "kernelspec": {
   "display_name": "Python 3",
   "language": "python",
   "name": "python3"
  },
  "language_info": {
   "codemirror_mode": {
    "name": "ipython",
    "version": 3
   },
   "file_extension": ".py",
   "mimetype": "text/x-python",
   "name": "python",
   "nbconvert_exporter": "python",
   "pygments_lexer": "ipython3",
   "version": "3.8.3"
  }
 },
 "nbformat": 4,
 "nbformat_minor": 4
}
